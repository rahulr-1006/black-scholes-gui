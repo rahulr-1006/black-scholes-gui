{
 "cells": [
  {
   "cell_type": "code",
   "execution_count": 9,
   "metadata": {},
   "outputs": [],
   "source": [
    "import math\n",
    "from scipy.stats import norm"
   ]
  },
  {
   "cell_type": "code",
   "execution_count": 10,
   "metadata": {},
   "outputs": [],
   "source": [
    "# define the variables\n",
    "S = 42 # Underlying price\n",
    "K = 40 # Strike Price\n",
    "T = 0.5 # Time to Expiration\n",
    "r = 0.1 # Risk free rate\n",
    "vol = 0.2# Volatility"
   ]
  },
  {
   "cell_type": "markdown",
   "metadata": {},
   "source": [
    "Defining the key variables \n",
    "\n",
    "underlying price - if i wanted to go into the market and buy one stock, it would cost 42 \n",
    "\n",
    "Strike price - if i own this europian option, at the toime in which the option expires, I will have the option to purchase the stock at 40 dollars regarless of its current price\n",
    "\n",
    "Time to expiration is the time it expires ( 6 months in the future)\n",
    "\n",
    "Risk free rate - \n",
    "\n",
    "Volatility - (sigma), the standard deviation of the stock price\n"
   ]
  },
  {
   "cell_type": "markdown",
   "metadata": {},
   "source": [
    "$$\n",
    "d_1 = \\frac{\\ln(S/K) + \\left(r + \\frac{1}{2} \\sigma^2\\right) T}{\\sigma \\sqrt{T}}\n",
    "$$\n"
   ]
  },
  {
   "cell_type": "code",
   "execution_count": 11,
   "metadata": {},
   "outputs": [],
   "source": [
    "d1 = (math.log(S/K) + (r + 0.5*vol**2 )*T)/(vol * math.sqrt(T))\n",
    "d1 = (math.log(S/K) + (r + 0.5 * vol**2)*T ) / (vol * math.sqrt(T))"
   ]
  },
  {
   "cell_type": "markdown",
   "metadata": {},
   "source": [
    "$$ \n",
    "d_2 = d_1 - \\sigma \\sqrt{T}\n",
    "$$"
   ]
  },
  {
   "cell_type": "code",
   "execution_count": 12,
   "metadata": {},
   "outputs": [],
   "source": [
    "d2 = d1 - (vol * math.sqrt(T))"
   ]
  },
  {
   "cell_type": "markdown",
   "metadata": {},
   "source": [
    "### Call Option Price:\n",
    "\n",
    "$$\n",
    "C = S \\cdot N(d_1) - K \\cdot e^{-rT} \\cdot N(d_2)\n",
    "$$\n",
    "\n",
    "- N wrapped around a value are probabilities\n",
    "N (d1) = probability that the underlying stock price S will be higher than the strike price K at the time of expiry\n",
    "- e*-rt is a way to compound the interest rate back to today, the entire expression is jsut a weighted average of if the call option will expire in the money \n"
   ]
  },
  {
   "cell_type": "code",
   "execution_count": 13,
   "metadata": {},
   "outputs": [],
   "source": [
    "C = S * norm.cdf(d1) - K * math.exp(-r * T) * norm.cdf(d2)\n",
    "C = S * norm.cdf(d1) - K * math.exp(-r * T) * norm.cdf(d2)"
   ]
  },
  {
   "cell_type": "markdown",
   "metadata": {},
   "source": [
    "### Put Option Price:\n",
    "\n",
    "$$\n",
    "P = K \\cdot e^{-rT} \\cdot N(-d_2) - S \\cdot N(-d_1)\n",
    "$$\n",
    "\n",
    "Where \\( N(\\cdot) \\) is the cumulative distribution function of the standard normal distribution.\n",
    "\n",
    "the difference between this one is that it has a inverse relationship\n",
    "\n"
   ]
  },
  {
   "cell_type": "code",
   "execution_count": 14,
   "metadata": {},
   "outputs": [],
   "source": [
    "P = K * math.exp(-r * T) * norm.cdf(-d2) - S * norm.cdf(-d1)\n",
    "P = K * math.exp(-r * T) * norm.cdf(-d2) - S * norm.cdf(-d1)"
   ]
  },
  {
   "cell_type": "markdown",
   "metadata": {},
   "source": [
    "### Results"
   ]
  },
  {
   "cell_type": "code",
   "execution_count": 15,
   "metadata": {},
   "outputs": [
    {
     "name": "stdout",
     "output_type": "stream",
     "text": [
      "The value of d1 is:  0.7693\n",
      "The value of d2 is:  0.6278\n",
      "The price of the call option is: $ 4.76\n",
      "The price of the put option is: $ 0.81\n"
     ]
    }
   ],
   "source": [
    "print('The value of d1 is: ', round(d1, 4))\n",
    "print('The value of d2 is: ', round(d2, 4))\n",
    "print('The price of the call option is: $', round(C, 2))\n",
    "print('The price of the put option is: $', round(P, 2))"
   ]
  },
  {
   "cell_type": "markdown",
   "metadata": {},
   "source": [
    "Increasing call option for example to 45 (the S value)\n",
    "- should make the call option more valuable ebcause theres a larger gap between the Strike price adn the underlying price\n",
    "- should make the put price lower, 8as there is a lower probability the S and K are closer together\n",
    "\n",
    "Increasing the time of expiration\n",
    "- both the call and put options will increase as there is more time to expiration \n",
    "\n",
    "Changing volatility\n",
    "- decreases volatilty reduces both the call and strike options and will fall"
   ]
  },
  {
   "cell_type": "markdown",
   "metadata": {},
   "source": []
  }
 ],
 "metadata": {
  "kernelspec": {
   "display_name": "quantenv",
   "language": "python",
   "name": "python3"
  },
  "language_info": {
   "codemirror_mode": {
    "name": "ipython",
    "version": 3
   },
   "file_extension": ".py",
   "mimetype": "text/x-python",
   "name": "python",
   "nbconvert_exporter": "python",
   "pygments_lexer": "ipython3",
   "version": "3.13.5"
  }
 },
 "nbformat": 4,
 "nbformat_minor": 2
}
